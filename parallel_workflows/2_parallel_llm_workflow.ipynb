{
 "cells": [
  {
   "metadata": {},
   "cell_type": "markdown",
   "source": "### Essay evaluation app based on 3 criteria: Clarity of thoughts, Depth of Analysis and Language (score between 0-10 for each step) and Final Evaluation with average rating from 3 criteria\n",
   "id": "b124cfb313c31cf1"
  },
  {
   "metadata": {
    "ExecuteTime": {
     "end_time": "2025-07-15T04:01:02.204011Z",
     "start_time": "2025-07-15T04:01:02.200770Z"
    }
   },
   "cell_type": "code",
   "source": [
    "from langgraph.graph import StateGraph, START, END\n",
    "from dotenv import load_dotenv\n",
    "from typing import TypedDict, Annotated\n",
    "from pydantic import BaseModel, Field\n",
    "import operator"
   ],
   "id": "6944c719274dbe78",
   "outputs": [],
   "execution_count": 36
  },
  {
   "metadata": {
    "ExecuteTime": {
     "end_time": "2025-07-15T04:01:02.219975Z",
     "start_time": "2025-07-15T04:01:02.216211Z"
    }
   },
   "cell_type": "code",
   "source": "load_dotenv()",
   "id": "f2d8deded965d113",
   "outputs": [
    {
     "data": {
      "text/plain": [
       "True"
      ]
     },
     "execution_count": 37,
     "metadata": {},
     "output_type": "execute_result"
    }
   ],
   "execution_count": 37
  },
  {
   "metadata": {
    "ExecuteTime": {
     "end_time": "2025-07-15T04:01:02.230792Z",
     "start_time": "2025-07-15T04:01:02.228171Z"
    }
   },
   "cell_type": "code",
   "source": [
    "# Schema for structured output from LLM model\n",
    "class EvaluationSchema(BaseModel):\n",
    "\n",
    "    feedback: str = Field(description=\"Short feedback for the essay\")\n",
    "    score: int = Field(description=\"The score of the essay out of 10\", ge=0, le=10)\n"
   ],
   "id": "51739b543e3c5ddf",
   "outputs": [],
   "execution_count": 38
  },
  {
   "metadata": {
    "ExecuteTime": {
     "end_time": "2025-07-15T04:01:02.240031Z",
     "start_time": "2025-07-15T04:01:02.237069Z"
    }
   },
   "cell_type": "code",
   "source": [
    "# define model\n",
    "from langchain_openai import ChatOpenAI\n",
    "\n",
    "model = ChatOpenAI(model=\"gpt-4o-mini\")\n",
    "\n",
    "# create model that return response as EvaluationSchema\n",
    "structured_model = model.with_structured_output(EvaluationSchema)"
   ],
   "id": "f2f8098640116b50",
   "outputs": [],
   "execution_count": 39
  },
  {
   "metadata": {
    "ExecuteTime": {
     "end_time": "2025-07-15T04:01:02.247539Z",
     "start_time": "2025-07-15T04:01:02.245827Z"
    }
   },
   "cell_type": "code",
   "source": [
    "# define state for workflow\n",
    "class EvaluationState(TypedDict):\n",
    "\n",
    "    essay: str\n",
    "\n",
    "    language_feedback: str\n",
    "    depth_of_analysis_feedback: str\n",
    "    clarity_of_thoughts_feedback: str\n",
    "    overall_feedback: str\n",
    "    individual_scores: Annotated[list[int], operator.add]\n",
    "    average_score: float\n"
   ],
   "id": "c785f9b152fa5f7",
   "outputs": [],
   "execution_count": 40
  },
  {
   "metadata": {
    "ExecuteTime": {
     "end_time": "2025-07-15T04:01:02.255746Z",
     "start_time": "2025-07-15T04:01:02.252981Z"
    }
   },
   "cell_type": "code",
   "source": [
    "def evaluate_language(state: EvaluationState):\n",
    "\n",
    "    prompt = f\"Evaluate the language quality of the following essay and provide a feedback and assign a score out of 10 \\n {state['essay']}\"\n",
    "    output = structured_model.invoke(prompt)\n",
    "\n",
    "    return {\"language_feedback\": output.feedback, \"individual_scores\": [output.score]}\n",
    "\n",
    "\n",
    "\n",
    "def evaluate_dept_of_analysis(state: EvaluationState):\n",
    "\n",
    "    prompt = f\"Evaluate the Depth of the analysis of the following essay and provide a feedback and assign a score out of 10 \\n {state['essay']}\"\n",
    "    output = structured_model.invoke(prompt)\n",
    "\n",
    "    return {\"depth_of_analysis_feedback\": output.feedback, \"individual_scores\": [output.score]}\n",
    "\n",
    "\n",
    "\n",
    "def evaluate_clarity_of_thoughts(state: EvaluationState):\n",
    "\n",
    "    prompt = f\"Evaluate the Clarity of thoughts analysis of the following essay and provide a feedback and assign a score out of 10 \\n {state['essay']}\"\n",
    "    output = structured_model.invoke(prompt)\n",
    "\n",
    "    return {\"clarity_of_thoughts_feedback\": output.feedback, \"individual_scores\": [output.score]}\n",
    "\n",
    "\n",
    "\n",
    "def final_evaluation(state: EvaluationState):\n",
    "\n",
    "    # summary feedback\n",
    "    prompt = f\"Based on the following feedback crate a summarized feedback \\n Language feedback: {state['language_feedback']} \\n Depth of analysis feedback: {state['depth_of_analysis_feedback']} \\n Clarity of thoughts feedback: {state['clarity_of_thoughts_feedback']}\"\n",
    "\n",
    "    overall_feedback = model.invoke(prompt).content\n",
    "\n",
    "    # avg score\n",
    "    average_score = sum(state[\"individual_scores\"])/len(state[\"individual_scores\"])\n",
    "\n",
    "    return {\"overall_feedback\": overall_feedback, \"average_score\": average_score}\n"
   ],
   "id": "32f4c0b5584059ba",
   "outputs": [],
   "execution_count": 41
  },
  {
   "metadata": {
    "ExecuteTime": {
     "end_time": "2025-07-15T04:01:02.265632Z",
     "start_time": "2025-07-15T04:01:02.261562Z"
    }
   },
   "cell_type": "code",
   "source": [
    "# define graph\n",
    "graph = StateGraph(EvaluationState)\n",
    "\n",
    "# define nodes\n",
    "graph.add_node(\"evaluate_language\", evaluate_language)\n",
    "graph.add_node(\"evaluate_dept_of_analysis\", evaluate_dept_of_analysis)\n",
    "graph.add_node(\"evaluate_clarity_of_thoughts\", evaluate_clarity_of_thoughts)\n",
    "graph.add_node(\"final_evaluation\", final_evaluation)\n",
    "\n",
    "# define edges\n",
    "graph.add_edge(START, \"evaluate_language\")\n",
    "graph.add_edge(START, \"evaluate_dept_of_analysis\")\n",
    "graph.add_edge(START, \"evaluate_clarity_of_thoughts\")\n",
    "\n",
    "graph.add_edge(\"evaluate_language\", \"final_evaluation\")\n",
    "graph.add_edge(\"evaluate_dept_of_analysis\", \"final_evaluation\")\n",
    "graph.add_edge(\"evaluate_clarity_of_thoughts\", \"final_evaluation\")\n",
    "\n",
    "graph.add_edge(\"final_evaluation\", END)\n",
    "\n",
    "# compile graph\n",
    "workflow = graph.compile()"
   ],
   "id": "c29c40a5828b7507",
   "outputs": [],
   "execution_count": 42
  },
  {
   "metadata": {
    "ExecuteTime": {
     "end_time": "2025-07-15T04:01:09.933057Z",
     "start_time": "2025-07-15T04:01:09.136623Z"
    }
   },
   "cell_type": "code",
   "source": "workflow",
   "id": "d74f1f82c34a5385",
   "outputs": [
    {
     "data": {
      "text/plain": [
       "<langgraph.graph.state.CompiledStateGraph object at 0x1080c45b0>"
      ],
      "image/png": "[encoded data removed]"
     },
     "execution_count": 43,
     "metadata": {},
     "output_type": "execute_result"
    }
   ],
   "execution_count": 43
  },
  {
   "metadata": {
    "ExecuteTime": {
     "end_time": "2025-07-15T04:02:16.167158Z",
     "start_time": "2025-07-15T04:02:16.162363Z"
    }
   },
   "cell_type": "code",
   "source": [
    "essay = \"\"\"\n",
    "Investing in the Indian economy presents a compelling opportunity due to its robust growth, large and young population, and increasing integration into the global market. While challenges remain, India's strong performance in certain sectors and government initiatives aimed at attracting foreign investment make it an attractive destination for investors seeking long-term growth.\n",
    "Growth and Opportunity:\n",
    "India's economy has demonstrated strong growth, particularly in the last decade, with an average annual rate of 6%. This growth is fueled by a large and young population, contributing to a significant consumer base and a growing workforce. Furthermore, India's increasing integration into the global economy, particularly through its services exports, indicates a positive trajectory for future growth.\n",
    "Key Sectors for Investment:\n",
    "Several sectors offer promising investment opportunities in India. The technology sector, including startups and tech ventures, has seen significant growth and investment. The manufacturing sector, with initiatives like \"Make in India,\" also presents opportunities for investors looking to capitalize on the country's growing industrial base. Additionally, the infrastructure sector, with government focus on development projects, offers potential for investment in areas like transportation, energy, and urban development.\n",
    "Challenges and Considerations:\n",
    "Despite the positive outlook, investors should also be aware of challenges within the Indian economy. Infrastructure deficits, while being addressed, can still pose challenges for businesses. Income inequality and poverty remain concerns, and addressing these issues will be crucial for sustainable and inclusive growth. Furthermore, navigating the complexities of the Indian regulatory and policy landscape requires careful consideration and due diligence.\n",
    "Government Initiatives:\n",
    "The Indian government has implemented various initiatives to attract foreign investment and foster a conducive business environment. These include streamlining regulations, reducing corporate taxes, and promoting ease of doing business. These efforts are aimed at creating a more investor-friendly ecosystem and attracting both domestic and foreign capital.\n",
    "Conclusion:\n",
    "India's economic landscape presents a mix of opportunities and challenges for investors. While navigating the complexities of the Indian market requires careful consideration, the country's strong growth potential, large and young population, and government initiatives make it a compelling destination for long-term investment. By carefully assessing risks and opportunities, investors can potentially benefit from India's continued economic progress.\n",
    "\"\"\""
   ],
   "id": "92176010aaa6cdb4",
   "outputs": [],
   "execution_count": 44
  },
  {
   "metadata": {
    "ExecuteTime": {
     "end_time": "2025-07-15T04:04:05.517224Z",
     "start_time": "2025-07-15T04:04:00.356422Z"
    }
   },
   "cell_type": "code",
   "source": [
    "initial_state = {\"essay\": essay}\n",
    "\n",
    "# execute workflow\n",
    "output_state = workflow.invoke(initial_state)"
   ],
   "id": "3eab3826ec946715",
   "outputs": [],
   "execution_count": 46
  },
  {
   "metadata": {
    "ExecuteTime": {
     "end_time": "2025-07-15T04:05:17.708655Z",
     "start_time": "2025-07-15T04:05:17.704853Z"
    }
   },
   "cell_type": "code",
   "source": [
    "for key, value in output_state.items():\n",
    "    print(f\"{key}: {value} \\n\\n\")"
   ],
   "id": "1bb2cc49e6353361",
   "outputs": [
    {
     "name": "stdout",
     "output_type": "stream",
     "text": [
      "essay: \n",
      "Investing in the Indian economy presents a compelling opportunity due to its robust growth, large and young population, and increasing integration into the global market. While challenges remain, India's strong performance in certain sectors and government initiatives aimed at attracting foreign investment make it an attractive destination for investors seeking long-term growth. \n",
      "Growth and Opportunity:\n",
      "India's economy has demonstrated strong growth, particularly in the last decade, with an average annual rate of 6%. This growth is fueled by a large and young population, contributing to a significant consumer base and a growing workforce. Furthermore, India's increasing integration into the global economy, particularly through its services exports, indicates a positive trajectory for future growth. \n",
      "Key Sectors for Investment:\n",
      "Several sectors offer promising investment opportunities in India. The technology sector, including startups and tech ventures, has seen significant growth and investment. The manufacturing sector, with initiatives like \"Make in India,\" also presents opportunities for investors looking to capitalize on the country's growing industrial base. Additionally, the infrastructure sector, with government focus on development projects, offers potential for investment in areas like transportation, energy, and urban development. \n",
      "Challenges and Considerations:\n",
      "Despite the positive outlook, investors should also be aware of challenges within the Indian economy. Infrastructure deficits, while being addressed, can still pose challenges for businesses. Income inequality and poverty remain concerns, and addressing these issues will be crucial for sustainable and inclusive growth. Furthermore, navigating the complexities of the Indian regulatory and policy landscape requires careful consideration and due diligence. \n",
      "Government Initiatives:\n",
      "The Indian government has implemented various initiatives to attract foreign investment and foster a conducive business environment. These include streamlining regulations, reducing corporate taxes, and promoting ease of doing business. These efforts are aimed at creating a more investor-friendly ecosystem and attracting both domestic and foreign capital. \n",
      "Conclusion:\n",
      "India's economic landscape presents a mix of opportunities and challenges for investors. While navigating the complexities of the Indian market requires careful consideration, the country's strong growth potential, large and young population, and government initiatives make it a compelling destination for long-term investment. By carefully assessing risks and opportunities, investors can potentially benefit from India's continued economic progress. \n",
      " \n",
      "\n",
      "\n",
      "language_feedback: The essay provides a clear and structured analysis of the investment potential in the Indian economy, effectively addressing both opportunities and challenges. The language is formal and appropriate for the topic, but could benefit from more varied sentence structure and vocabulary to enhance engagement. Overall, it presents a balanced overview and is well-organized, although some sections could use deeper insight. \n",
      "\n",
      "\n",
      "depth_of_analysis_feedback: The essay provides a well-structured overview of the Indian economy, highlighting both opportunities for investment and the inherent challenges. However, the analysis could deepen by presenting specific data or case studies to support claims and by exploring the socio-economic implications in more detail. Overall, the essay gives a good general insight but lacks in-depth analysis and critical evaluation. \n",
      "\n",
      "\n",
      "clarity_of_thoughts_feedback: The essay presents a well-structured analysis of the investment landscape in India, highlighting both opportunities and challenges. The clarity of thought is mostly strong, with logical progression and clear sections that make the information accessible. However, there are areas where more specific examples or data could enhance the analysis, particularly in the challenges section. Overall, it provides a solid overview but could benefit from deeper insights in certain areas. \n",
      "\n",
      "\n",
      "overall_feedback: **Summarized Feedback:**\n",
      "\n",
      "The essay offers a clear and structured analysis of investment potential in the Indian economy, effectively addressing both opportunities and challenges. The formal language is appropriate, though greater variation in sentence structure and vocabulary could enhance engagement. While the essay is well-organized and presents a solid overview, it lacks depth in its analysis; incorporating specific data or case studies could strengthen claims and provide more critical evaluation. Clarity of thought is generally strong, with logical progression, yet certain sections, particularly regarding challenges, would benefit from more specific examples or insights. Overall, the essay provides a good foundation but requires deeper exploration in some areas. \n",
      "\n",
      "\n",
      "individual_scores: [7, 7, 7] \n",
      "\n",
      "\n",
      "average_score: 7.0 \n",
      "\n",
      "\n"
     ]
    }
   ],
   "execution_count": 48
  },
  {
   "metadata": {},
   "cell_type": "code",
   "outputs": [],
   "execution_count": null,
   "source": "",
   "id": "535176d4137d823"
  }
 ],
 "metadata": {
  "kernelspec": {
   "display_name": "Python 3",
   "language": "python",
   "name": "python3"
  },
  "language_info": {
   "codemirror_mode": {
    "name": "ipython",
    "version": 2
   },
   "file_extension": ".py",
   "mimetype": "text/x-python",
   "name": "python",
   "nbconvert_exporter": "python",
   "pygments_lexer": "ipython2",
   "version": "2.7.6"
  }
 },
 "nbformat": 4,
 "nbformat_minor": 5
}
