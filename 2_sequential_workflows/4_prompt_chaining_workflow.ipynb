{
 "cells": [
  {
   "cell_type": "code",
   "id": "initial_id",
   "metadata": {
    "collapsed": true,
    "ExecuteTime": {
     "end_time": "2025-07-14T03:15:53.357201Z",
     "start_time": "2025-07-14T03:15:53.354434Z"
    }
   },
   "source": [
    "from langgraph.graph import StateGraph\n",
    "from langgraph.constants import START, END\n",
    "from typing import TypedDict\n",
    "from dotenv import load_dotenv\n",
    "from langchain_huggingface import HuggingFaceEndpoint, ChatHuggingFace"
   ],
   "outputs": [],
   "execution_count": 13
  },
  {
   "metadata": {
    "ExecuteTime": {
     "end_time": "2025-07-14T03:15:53.367420Z",
     "start_time": "2025-07-14T03:15:53.364863Z"
    }
   },
   "cell_type": "code",
   "source": "load_dotenv()",
   "id": "c4e68416c41f5e6d",
   "outputs": [
    {
     "data": {
      "text/plain": [
       "True"
      ]
     },
     "execution_count": 14,
     "metadata": {},
     "output_type": "execute_result"
    }
   ],
   "execution_count": 14
  },
  {
   "metadata": {
    "ExecuteTime": {
     "end_time": "2025-07-14T03:15:53.383405Z",
     "start_time": "2025-07-14T03:15:53.380609Z"
    }
   },
   "cell_type": "code",
   "source": [
    "llm = HuggingFaceEndpoint(\n",
    "    repo_id=\"mistralai/Mistral-7B-Instruct-v0.2\",\n",
    "    task=\"text-generation\"\n",
    ")\n",
    "\n",
    "model = ChatHuggingFace(llm=llm)"
   ],
   "id": "a9c98606006f5c94",
   "outputs": [],
   "execution_count": 15
  },
  {
   "metadata": {
    "ExecuteTime": {
     "end_time": "2025-07-14T03:15:53.399049Z",
     "start_time": "2025-07-14T03:15:53.397326Z"
    }
   },
   "cell_type": "code",
   "source": [
    "# define state\n",
    "class BlogState(TypedDict):\n",
    "    title: str\n",
    "    outline: str\n",
    "    content: str"
   ],
   "id": "4651524f2ce8d6be",
   "outputs": [],
   "execution_count": 16
  },
  {
   "metadata": {
    "ExecuteTime": {
     "end_time": "2025-07-14T03:15:53.412947Z",
     "start_time": "2025-07-14T03:15:53.409904Z"
    }
   },
   "cell_type": "code",
   "source": [
    "def create_outline(state: BlogState) -> BlogState:\n",
    "    title = state[\"title\"]\n",
    "    prompt = f\"Generate an outline for a blog on the topic - {title}\"\n",
    "    outline = model.invoke(prompt).content\n",
    "    state[\"outline\"] = outline\n",
    "    return state\n",
    "\n",
    "def create_blog(state: BlogState) -> BlogState:\n",
    "    outline = state[\"outline\"]\n",
    "    title = state[\"title\"]\n",
    "    prompt = f\"Write a detailed blog on title - {title} using the following outline: {outline}\"\n",
    "    content = model.invoke(prompt).content\n",
    "    state[\"content\"] = content\n",
    "    return state\n",
    "\n"
   ],
   "id": "f679f27688e04293",
   "outputs": [],
   "execution_count": 17
  },
  {
   "metadata": {
    "ExecuteTime": {
     "end_time": "2025-07-14T03:15:53.423579Z",
     "start_time": "2025-07-14T03:15:53.420469Z"
    }
   },
   "cell_type": "code",
   "source": [
    "# define graph\n",
    "graph = StateGraph(BlogState)\n",
    "\n",
    "# add nodes\n",
    "graph.add_node(\"create_outline\", create_outline)\n",
    "graph.add_node(\"create_blog\", create_blog)\n",
    "\n",
    "# add edges\n",
    "graph.add_edge(START, \"create_outline\")\n",
    "graph.add_edge(\"create_outline\", \"create_blog\")\n",
    "graph.add_edge(\"create_blog\", END)\n",
    "\n",
    "# compile graph\n",
    "workflow = graph.compile()"
   ],
   "id": "1f8578f6b86ba3da",
   "outputs": [],
   "execution_count": 18
  },
  {
   "metadata": {
    "ExecuteTime": {
     "end_time": "2025-07-14T03:16:13.565865Z",
     "start_time": "2025-07-14T03:16:13.153556Z"
    }
   },
   "cell_type": "code",
   "source": [
    "# visualize graph\n",
    "graph.compile()"
   ],
   "id": "265020282a2d9514",
   "outputs": [
    {
     "data": {
      "text/plain": [
       "<langgraph.graph.state.CompiledStateGraph object at 0x106096f70>"
      ],
      "image/png": "[encoded data removed]"
     },
     "execution_count": 19,
     "metadata": {},
     "output_type": "execute_result"
    }
   ],
   "execution_count": 19
  },
  {
   "metadata": {
    "ExecuteTime": {
     "end_time": "2025-07-14T03:18:31.144495Z",
     "start_time": "2025-07-14T03:17:48.587084Z"
    }
   },
   "cell_type": "code",
   "source": "output = workflow.invoke({\"title\": \"Benefits of Threading\"})",
   "id": "777cebc16259bd51",
   "outputs": [],
   "execution_count": 20
  },
  {
   "metadata": {
    "ExecuteTime": {
     "end_time": "2025-07-14T03:19:17.175969Z",
     "start_time": "2025-07-14T03:19:17.171193Z"
    }
   },
   "cell_type": "code",
   "source": "print(output[\"content\"])",
   "id": "7890bec5fe992fcc",
   "outputs": [
    {
     "name": "stdout",
     "output_type": "stream",
     "text": [
      " Title: Unraveling the Benefits of Threading: A Precise, Effective, and Gentle Hair RemovalMethod\n",
      "\n",
      "I. Introduction\n",
      "Threading is an ancient hair removal technique that has been popular in various parts of the world, especially in Asia and the Middle East, for centuries.Threading involves the use of a thin cotton thread that is twisted and rolled over the skin to pluck out hair from the root. In recent times, this technique has gained significant popularity in the western world, particularly as a method for shaping brows and removing unwanted facial hair.\n",
      "\n",
      "The importance of facial hair grooming cannot be overemphasized. A well-groomed face is a reflection of good personal hygiene and can significantly boost your confidence.Threading offers a precise, effective, and gentle alternative to more conventional methods of hair removal, such as waxing, shaving, and tweezing. Let's take a closer look at the various benefits of threading.\n",
      "\n",
      "II. Benefits of Threading\n",
      "\n",
      "1. Precision and fine details\n",
      "Threading provides unmatched precision, which makes it an excellent choice for shaping eyebrows and dealing with smaller areas of unwanted facial hair. Unlike waxing, which involves the removal of an entire strip of hair, threading targets individual hairs. This level of precision can help prevent over-plucking and irregular shaping. Additionally, since threading doesn't leave a sticky residue like waxing, you can easily attend to your grooming in the comfort of your home without worrying about any unwanted mess.\n",
      "\n",
      "2. Longer Lasting\n",
      "Threading is known to offer longer-lasting results compared to other hair removal methods. Threading costs can last between three to six weeks, depending on the individual's hair growth pattern. Furthermore, with regular threading, hair grows back finer and thinner, making the regrowth process less noticeable over time.\n",
      "\n",
      "3. Cost-Effective\n",
      "Threading is a more cost-effective hair removal method compared to more elaborate treatments, such as laser hair removal. While the exact cost may depend on the region and the expertise of the threading technician, threading is generally an affordable option for most people.\n",
      "\n",
      "4. Environmentally-Friendly\n",
      "Threading does not require any disposable waxing strips, creams, or other products that can contribute significantly to waste generation. By opting for threading, you not only support sustainable personal care practices but also contribute to reduced environmental waste.\n",
      "\n",
      "5. Gentle on Skin\n",
      "Threading is a gentler hair removal method compared to other techniques like waxing. It causes less irritation and redness, and is incredibly suitable for people with sensitive skin. This is because threading targets individual hairs with minimal pressure, while other removal methods like waxing subject your skin to a more extensive withdrawal of hair, leading to potential irritation.\n",
      "\n",
      "6. Cultural Significance\n",
      "Threading holds a rich cultural significance in various parts of the world. The history and popularity of threading can be traced back to ancient civilizations like Egypt, Persia, and China. Today, it remains a popular hair removal method in many regions and is an integral part of the cultural heritage of various communities.\n",
      "\n",
      "III. Conclusion\n",
      "Threading offers numerous benefits as a hair removal method, from its precision and fine detail capabilities, to its longer-lasting results and gentle nature. Cost-effective and eco-friendly, threading is a fantastic choice for those who seek a smoother, more polished look without compromising on their personal values or budget. So why not give threading a try and discover the transformative power of this ancient hair removal technique for yourself?\n"
     ]
    }
   ],
   "execution_count": 22
  },
  {
   "metadata": {},
   "cell_type": "code",
   "outputs": [],
   "execution_count": null,
   "source": "",
   "id": "b8cab2a9f7d612f4"
  }
 ],
 "metadata": {
  "kernelspec": {
   "display_name": "Python 3",
   "language": "python",
   "name": "python3"
  },
  "language_info": {
   "codemirror_mode": {
    "name": "ipython",
    "version": 2
   },
   "file_extension": ".py",
   "mimetype": "text/x-python",
   "name": "python",
   "nbconvert_exporter": "python",
   "pygments_lexer": "ipython2",
   "version": "2.7.6"
  }
 },
 "nbformat": 4,
 "nbformat_minor": 5
}
